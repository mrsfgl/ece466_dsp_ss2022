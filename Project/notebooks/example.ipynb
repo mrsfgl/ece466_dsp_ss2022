{
 "cells": [
  {
   "cell_type": "markdown",
   "metadata": {},
   "source": [
    "# Example Notebook for the Term Project\n",
    "\n",
    "This notebook shows how to call the functions from .py files and gives insight as to how you can implement and run your whole project from a single notebook."
   ]
  },
  {
   "cell_type": "markdown",
   "metadata": {},
   "source": [
    "## 1. Calling a Function From .py File\n",
    "\n",
    "Calling a function requires you to import it from whatever folder you store it. This process is similar to importing libraries like you have done in previous assignments. However, since your project is not saved into the path environment, you will need to either add your project to the path temporarily, or call the function from the current directory. In the following, I add the project path by calling a python script in the current directory. "
   ]
  },
  {
   "cell_type": "code",
   "execution_count": null,
   "metadata": {},
   "outputs": [],
   "source": [
    "# Adds project path to system path. Check out the file, it only has 5 lines of code.\n",
    "import project_path\n",
    "\n",
    "from preprocess import * # Imports all functions from `preprocess.py``\n",
    "from train_test import train # Imports only the function `train`` from `train_test.py`"
   ]
  }
 ],
 "metadata": {
  "language_info": {
   "name": "python"
  },
  "orig_nbformat": 4
 },
 "nbformat": 4,
 "nbformat_minor": 2
}
