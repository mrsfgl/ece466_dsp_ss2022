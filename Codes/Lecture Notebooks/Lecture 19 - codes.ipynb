{
 "cells": [
  {
   "cell_type": "markdown",
   "metadata": {},
   "source": [
    "Lecture 19\n",
    "---\n"
   ]
  },
  {
   "cell_type": "markdown",
   "metadata": {},
   "source": [
    "Let's create an FIR filter with passband frequency between $(0.01, 0.2).$"
   ]
  },
  {
   "cell_type": "code",
   "execution_count": null,
   "metadata": {},
   "outputs": [],
   "source": [
    "from scipy import signal\n",
    "import numpy as np\n",
    "import matplotlib.pyplot as plt"
   ]
  },
  {
   "cell_type": "code",
   "execution_count": null,
   "metadata": {},
   "outputs": [],
   "source": [
    "numtaps = 30\n",
    "\n",
    "f = [0.1, 0.2]\n",
    "fs = 1\n",
    "\n",
    "fir_b = signal.firwin(numtaps, f, fs=1, pass_zero='bandpass')\n",
    "print(fir_b)"
   ]
  },
  {
   "cell_type": "code",
   "execution_count": null,
   "metadata": {},
   "outputs": [],
   "source": [
    "gpass = 5\n",
    "gstop = 20\n",
    "iir_system = signal.iirdesign(wp=f, ws=[0.05,0.3], gpass=gpass, gstop=gstop, fs=1)\n",
    "print(iir_system[0])\n",
    "print(iir_system[1])"
   ]
  },
  {
   "cell_type": "markdown",
   "metadata": {},
   "source": [
    "Now, let's see how they behave."
   ]
  },
  {
   "cell_type": "code",
   "execution_count": null,
   "metadata": {},
   "outputs": [],
   "source": [
    "w, H_w = signal.freqz(fir_b)\n",
    "\n",
    "fig, ax1 = plt.subplots()\n",
    "\n",
    "ax1.set_title('Digital filter frequency response')\n",
    "ax1.plot(w/2/np.pi, 20 * np.log10(abs(H_w)), 'b')\n",
    "ax1.set_ylabel('Amplitude [dB]', color='b')\n",
    "ax1.set_xlabel('Frequency [rad/sample]')\n",
    "\n",
    "ax2 = ax1.twinx()\n",
    "angles = np.angle(H_w)\n",
    "ax2.plot(w/2/np.pi, angles, 'g')\n",
    "ax2.set_ylabel('Angle (radians)', color='g')\n",
    "ax2.grid()\n",
    "ax2.axis('tight')\n",
    "plt.show()"
   ]
  },
  {
   "cell_type": "code",
   "execution_count": null,
   "metadata": {},
   "outputs": [],
   "source": [
    "w, h = signal.freqz(iir_system[0], iir_system[1])\n",
    "fig, ax1 = plt.subplots()\n",
    "\n",
    "ax1.set_title('Digital filter frequency response')\n",
    "ax1.plot(w/2/np.pi, 20 * np.log10(abs(h)), 'b')\n",
    "ax1.set_ylabel('Amplitude [dB]', color='b')\n",
    "ax1.set_xlabel('Frequency [rad/sample]')\n",
    "ax1.grid()\n",
    "ax1.set_ylim([-120, 20])\n",
    "\n",
    "ax2 = ax1.twinx()\n",
    "angles = np.unwrap(np.angle(h))\n",
    "ax2.plot(w/2/np.pi, angles, 'g')\n",
    "ax2.set_ylabel('Angle (radians)', color='g')\n",
    "ax2.grid()\n",
    "ax2.axis('tight')\n",
    "ax2.set_ylim([-6, 1])"
   ]
  },
  {
   "cell_type": "code",
   "execution_count": null,
   "metadata": {},
   "outputs": [],
   "source": []
  }
 ],
 "metadata": {
  "interpreter": {
   "hash": "a31061215d61cc9664fbbf891d1f871c44572af5775a986a0146f7ff7de68731"
  },
  "kernelspec": {
   "display_name": "Python 3.9.7 ('base')",
   "language": "python",
   "name": "python3"
  },
  "language_info": {
   "codemirror_mode": {
    "name": "ipython",
    "version": 3
   },
   "file_extension": ".py",
   "mimetype": "text/x-python",
   "name": "python",
   "nbconvert_exporter": "python",
   "pygments_lexer": "ipython3",
   "version": "3.9.7"
  },
  "orig_nbformat": 4
 },
 "nbformat": 4,
 "nbformat_minor": 2
}
