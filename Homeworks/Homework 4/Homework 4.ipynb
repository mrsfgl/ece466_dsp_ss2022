{
 "cells": [
  {
   "cell_type": "markdown",
   "metadata": {},
   "source": [
    "# ECE 466 Homework 4\n",
    "---\n",
    "__Spring 22__\n",
    "__Due 2/3/2022__\n",
    "\n",
    "* You have 10 extra points. I will carry your points over the other homeworks as well. So, if you score 105 in this homework, I will add 0.5 points to your total homework score for the whole semester.\n",
    "* You can collaborate on homeworks and turn in a homework for 2 people. Make sure both of you submit.\n",
    "* Include your codes and answers within the cells that are requested. Do not create additional cells. \n",
    "* __Upload the `.ipynb` document and a generated `.html` in a zip:__  \n",
    "\n",
    "> You can use any modules you like for this question. I still need to see your code though. You can change the kernel for cells if you'd like to use another language."
   ]
  },
  {
   "cell_type": "markdown",
   "metadata": {},
   "source": [
    "**Your Name: [Name Surname]**"
   ]
  },
  {
   "cell_type": "code",
   "execution_count": 1,
   "metadata": {},
   "outputs": [],
   "source": [
    "import numpy as np\n",
    "import matplotlib.pyplot as plt\n",
    "from scipy import signal"
   ]
  },
  {
   "cell_type": "markdown",
   "metadata": {},
   "source": [
    "#### 1:\n",
    "\n",
    "[20] Write codes to compute and plot the __convolutions__ of the following for 100 time points. Make sure you only show the results where they are legitimate, i.e. the input and the system are defined. For example, if you have a step input, you can't realize it in a computer as it is infinitely long. In that case, you should plot results where the input behaves like a unit step.\n",
    "\n",
    "1. $h[n] = \\left(\\frac{1}{5}\\right)^nu[n]$, $x[n] = u[n]-u[n-10]$.\n",
    "2. $h[n] = \\left(\\frac{1}{2}\\right)^nu[n]$, $x[n] = \\left(\\frac{1}{4}\\right)^nu[n]$.\n",
    "3. $h[n] = \\left(0.7\\right)^nu[n]$, $x[n] = \\cos(0.1\\pi n)u[n]$.\n",
    "4. $$h[n] = \\begin{cases} 1, \\;0\\leq n\\leq 4 \\\\ 0, \\; elsewhere \\end{cases},$$ \n",
    "$$x[n] = \\begin{cases} \\frac{1}{3}n, \\;0\\leq n\\leq 6 \\\\ 0, \\; elsewhere \\end{cases}$$"
   ]
  },
  {
   "cell_type": "code",
   "execution_count": 1,
   "metadata": {},
   "outputs": [],
   "source": [
    "# Your code for 1.1 should be written and executed in this cell."
   ]
  },
  {
   "cell_type": "code",
   "execution_count": 2,
   "metadata": {},
   "outputs": [],
   "source": [
    "# Your code for 1.2 should be written and executed in this cell."
   ]
  },
  {
   "cell_type": "code",
   "execution_count": 3,
   "metadata": {},
   "outputs": [],
   "source": [
    "# Your code for 1.3 should be written and executed in this cell."
   ]
  },
  {
   "cell_type": "code",
   "execution_count": 4,
   "metadata": {},
   "outputs": [],
   "source": [
    "# Your code for 1.4 should be written and executed in this cell."
   ]
  },
  {
   "cell_type": "markdown",
   "metadata": {},
   "source": [
    "#### 2:\n",
    "\n",
    "[20 points] Consider a system represented by a linear constant coefficient difference equation given by $y[n] - 0.7y[n-1] +0.1y[n-2] = 2x[n] - x[n-2]$, with initial conditions $y[-1]=2$, $y[-2]=-1$ and input signal $x[n]=\\cos(0.5\\pi n)u[n]$. Code and plot the:\n",
    "\n",
    "1. Impulse response of the system\n",
    "2. ZSR\n",
    "3. ZIR\n",
    "4. Total response"
   ]
  },
  {
   "cell_type": "code",
   "execution_count": null,
   "metadata": {},
   "outputs": [],
   "source": [
    "# Your code for 2.1 should be written and executed in this cell."
   ]
  },
  {
   "cell_type": "code",
   "execution_count": null,
   "metadata": {},
   "outputs": [],
   "source": [
    "# Your code for 2.2 should be written and executed in this cell."
   ]
  },
  {
   "cell_type": "code",
   "execution_count": null,
   "metadata": {},
   "outputs": [],
   "source": [
    "# Your code for 2.3 should be written and executed in this cell."
   ]
  },
  {
   "cell_type": "code",
   "execution_count": null,
   "metadata": {},
   "outputs": [],
   "source": [
    "# Your code for 2.4 should be written and executed in this cell."
   ]
  },
  {
   "cell_type": "markdown",
   "metadata": {},
   "source": [
    "#### 3:\n",
    "\n",
    "[30 points] Determine the causal signal $x[n]$ if its z-transform $X(z)$ is given by the following, and plot them. (__Use dlti and dimpulse__).\n",
    "\n",
    "1. $X(z)=\\frac{.2z}{z-2}$, ROC: $|z|<2$.\n",
    "2. $X(z)=\\frac{z^2+0.6z-0.5}{z^2-0.9z+0.2}$.\n",
    "3. $X(z) = \\frac{z^{-6}+z^{-7}}{1-z^{-1}}$\n",
    "4. $X(z) = \\frac{1}{4}\\frac{1+6z^{-1}+z^{-2}}{(1-2z^{-1}+2z^{-2})(1-0.5z^{-1})}$\n",
    "5. $X(z) = \\frac{2-1.5z^{-1}}{1-1.5z^{-1}+0.5z^{-2}}$.\n",
    "6. $X(z)$ is specified by the image below. $G=\\frac{1}{4}$.\n",
    "\n",
    "![Figure](figure.jpg)"
   ]
  },
  {
   "cell_type": "code",
   "execution_count": null,
   "metadata": {},
   "outputs": [],
   "source": [
    "# Your code for 3.1 should be written and executed in this cell."
   ]
  },
  {
   "cell_type": "code",
   "execution_count": null,
   "metadata": {},
   "outputs": [],
   "source": [
    "# Your code for 3.2 should be written and executed in this cell."
   ]
  },
  {
   "cell_type": "code",
   "execution_count": null,
   "metadata": {},
   "outputs": [],
   "source": [
    "# Your code for 3.3 should be written and executed in this cell."
   ]
  },
  {
   "cell_type": "code",
   "execution_count": 5,
   "metadata": {},
   "outputs": [],
   "source": [
    "# Your code for 3.4 should be written and executed in this cell."
   ]
  },
  {
   "cell_type": "code",
   "execution_count": null,
   "metadata": {},
   "outputs": [],
   "source": [
    "# Your code for 3.5 should be written and executed in this cell."
   ]
  },
  {
   "cell_type": "code",
   "execution_count": null,
   "metadata": {},
   "outputs": [],
   "source": [
    "# Your code for 3.6 should be written and executed in this cell."
   ]
  },
  {
   "cell_type": "markdown",
   "metadata": {},
   "source": [
    "#### 4:\n",
    "\n",
    "[20 points] Compute and plot the ZSR of the system $y[n] = 0.7y[n - 1] - 0.12y[n - 2] + x[n -1] + x[n - 2]$, to the input $x[n]=nu[n]$. Is the system stable?"
   ]
  },
  {
   "cell_type": "code",
   "execution_count": null,
   "metadata": {},
   "outputs": [],
   "source": [
    "# Your code for 4 should be written and executed in this cell."
   ]
  },
  {
   "cell_type": "markdown",
   "metadata": {},
   "source": [
    "#### 5:\n",
    "\n",
    "[20 points] We want to design a causal discrete-time LTI system with the property that if the input is $$x[n] = \\left(0.5\\right)^nu[n]-\\frac{1}{4}\\left(0.5\\right)^{n-1}u[n-1],$$ then the output is $$y[n] = \\left(\\frac{1}{3}\\right)^nu[n].$$\n",
    "\n",
    "1. Determine the poles, zeros and gain of the system. (__You can do this by hand or using `signal.tf2zpk`__)\n",
    "2. Find and write the difference equation that characterizes this system. \n",
    "3. Determine if the system is stable. \n",
    "4. Plot the impulse response of the system."
   ]
  },
  {
   "cell_type": "code",
   "execution_count": null,
   "metadata": {},
   "outputs": [],
   "source": [
    "# Your code for 5.1 should be written and executed in this cell."
   ]
  },
  {
   "cell_type": "markdown",
   "metadata": {},
   "source": [
    "__Answers for 10:__\n",
    "\n",
    "---"
   ]
  },
  {
   "cell_type": "code",
   "execution_count": null,
   "metadata": {},
   "outputs": [],
   "source": [
    "# Your code for 5.4 should be written and executed in this cell."
   ]
  }
 ],
 "metadata": {
  "interpreter": {
   "hash": "a31061215d61cc9664fbbf891d1f871c44572af5775a986a0146f7ff7de68731"
  },
  "kernelspec": {
   "display_name": "Python 3.9.7 ('base')",
   "language": "python",
   "name": "python3"
  },
  "language_info": {
   "codemirror_mode": {
    "name": "ipython",
    "version": 3
   },
   "file_extension": ".py",
   "mimetype": "text/x-python",
   "name": "python",
   "nbconvert_exporter": "python",
   "pygments_lexer": "ipython3",
   "version": "3.9.7"
  },
  "orig_nbformat": 4
 },
 "nbformat": 4,
 "nbformat_minor": 2
}
