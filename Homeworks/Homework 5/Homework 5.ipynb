{
 "cells": [
  {
   "cell_type": "markdown",
   "metadata": {},
   "source": [
    "# ECE 466 Homework 5\n",
    "---\n",
    "__Spring 22__\n",
    "__Due 3/24/2022__\n",
    "\n",
    "* You can collaborate on homeworks and turn in a homework for 2 people. Make sure both of you submit.\n",
    "* Include your codes and answers within the cells that are requested. Do not create additional cells. \n",
    "* __Upload the `.ipynb` document and a generated `.html` in a zip:__  "
   ]
  },
  {
   "cell_type": "markdown",
   "metadata": {},
   "source": [
    "**Your Name: [Name Surname]**"
   ]
  },
  {
   "cell_type": "code",
   "execution_count": 1,
   "metadata": {},
   "outputs": [],
   "source": [
    "import numpy as np\n",
    "import matplotlib.pyplot as plt\n",
    "from scipy import signal"
   ]
  },
  {
   "cell_type": "markdown",
   "metadata": {},
   "source": [
    "#### 1:\n",
    "\n",
    "[20] Use the one-sided z-transform to determine $y[n], n\\geq 0$ for the following difference equations. Verify your answers `scipy.signal.lfilter` function with the initial conditions. Compare your results for the first 3 time points. \n",
    "\n",
    "1. $y[n] -1.5y[n-1]+ 0.5y[n-2] = 0,$ $y[-1]=1,$ $y[-2]=0.$\n",
    "2. $y[n] = 0.5y[n-1]+x[n],$ $x[n] = (1/3)^nu[n],$ $y[-1]=1.$"
   ]
  },
  {
   "cell_type": "markdown",
   "metadata": {},
   "source": [
    "__Answer for 1.1:__\n",
    "\n",
    "---"
   ]
  },
  {
   "cell_type": "code",
   "execution_count": 2,
   "metadata": {},
   "outputs": [],
   "source": [
    "# Your code for 1.1 should be written and executed in this cell."
   ]
  },
  {
   "cell_type": "markdown",
   "metadata": {},
   "source": [
    "__Answer for 1.2:__\n",
    "\n",
    "---"
   ]
  },
  {
   "cell_type": "code",
   "execution_count": 3,
   "metadata": {},
   "outputs": [],
   "source": [
    "# Your code for 1.2 should be written and executed in this cell."
   ]
  },
  {
   "cell_type": "markdown",
   "metadata": {},
   "source": [
    "#### 2:\n",
    "\n",
    "[10 points] Let $x[n]$ be a causal sequence.\n",
    "\n",
    "1. What conclusion can you draw about the value of its $z$-transform $X(z)$ at $z = \\infty$?\n",
    "2. Use the result in the first part to check which of the following transforms cannot be associated with a causal sequence. \n",
    "\n",
    "    a) $X(z)=\\frac{(z-0.5)^4}{(z-\\frac{1}{3})^3}.$\n",
    "\n",
    "    b) $X(z)=\\frac{\\left(1-\\frac{1}{2}z^-1\\right)^2}{\\left(1-\\frac{1}{3}z^-1\\right)}.$\n",
    "\n",
    "    c) $X(z)=\\frac{(z-\\frac{1}{3})^2}{(z-\\frac{1}{2})^3}.$"
   ]
  },
  {
   "cell_type": "markdown",
   "metadata": {},
   "source": [
    "__Answer for 2:__\n",
    "\n",
    "---"
   ]
  },
  {
   "cell_type": "markdown",
   "metadata": {},
   "source": [
    "#### 3:\n",
    "\n",
    "[20 points] Compute the $z$-transform of the following signals and specify their ROC. Determine whether the Fourier transform exists and if it does determine the Fourier transform. \n",
    "\n",
    "1. $x[n] = 2^nu[n].$\n",
    "2. $x[n] = u[n]-u[n-6].$\n",
    "3. $x[n] = a^n\\sin(\\omega n)u[n],$ $|a|<1.$\n",
    "4. $x[n] = -2\\delta[n+2]-\\delta[n+1]+\\delta[n-1]+2\\delta[n-2].$\n"
   ]
  },
  {
   "cell_type": "markdown",
   "metadata": {},
   "source": [
    "__Answer for 3.1:__\n",
    "\n",
    "---"
   ]
  },
  {
   "cell_type": "markdown",
   "metadata": {},
   "source": [
    "__Answer for 3.2:__\n",
    "\n",
    "---"
   ]
  },
  {
   "cell_type": "markdown",
   "metadata": {},
   "source": [
    "__Answer for 3.3:__\n",
    "\n",
    "---"
   ]
  },
  {
   "cell_type": "markdown",
   "metadata": {},
   "source": [
    "__Answer for 3.4:__\n",
    "\n",
    "---"
   ]
  },
  {
   "cell_type": "markdown",
   "metadata": {},
   "source": [
    "#### 4:\n",
    "\n",
    "[20 points] Consider the following periodic signal with period $N=6:$\n",
    "$$x[n] = \\{ \\dots ,1,0,1,2,\\underline{3},2,1,0,1, \\dots \\} $$\n",
    "\n",
    "1. Sketch the signal $x[n]$ and its magnitude and phase spectra by pen and paper (_You can use your tablet if you'd like_). \n",
    "2. Using the results in part 1, verify Parseval's relation by computing the power in the time and frequency domains. "
   ]
  },
  {
   "cell_type": "markdown",
   "metadata": {},
   "source": [
    "__Answer for 4.1:__\n",
    "\n",
    "---"
   ]
  },
  {
   "cell_type": "markdown",
   "metadata": {},
   "source": [
    "__Answer for 4.2:__\n",
    "\n",
    "---"
   ]
  },
  {
   "cell_type": "markdown",
   "metadata": {},
   "source": [
    "#### 5:\n",
    "\n",
    "[10 points] Determine the signal $x[n]$ if its Fourier transform is as given in the figure below: (There is no phase component, the frequency response does not contain any imaginary parts.)\n",
    "\n",
    "![Figure 1](figure1.jpg)\n"
   ]
  },
  {
   "cell_type": "markdown",
   "metadata": {},
   "source": [
    "__Answer for 5:__\n",
    "\n",
    "---"
   ]
  },
  {
   "cell_type": "markdown",
   "metadata": {},
   "source": [
    "#### 6:\n",
    "\n",
    "![Signal $x[n]$](figure2.png)\n",
    "\n",
    "[20 points] Let $X(\\omega)$ denote the Fourier transform of the signal $x[n]$ shown above. Perform the following calculations without explicitly evaluating $X(\\omega)$. \n",
    "\n",
    "1. Evaluate ܺ$X(0).$\n",
    "2. Find $\\angle X(\\omega).$\n",
    "3. Evaluate $\\int_{-\\pi}^\\pi X(\\omega)\\delta \\omega.$\n",
    "4. Determine and sketch the signal whose Fourier transform is $Re\\{X(\\omega)\\}.$ "
   ]
  },
  {
   "cell_type": "markdown",
   "metadata": {},
   "source": []
  }
 ],
 "metadata": {
  "interpreter": {
   "hash": "a31061215d61cc9664fbbf891d1f871c44572af5775a986a0146f7ff7de68731"
  },
  "kernelspec": {
   "display_name": "Python 3 (ipykernel)",
   "language": "python",
   "name": "python3"
  },
  "language_info": {
   "codemirror_mode": {
    "name": "ipython",
    "version": 3
   },
   "file_extension": ".py",
   "mimetype": "text/x-python",
   "name": "python",
   "nbconvert_exporter": "python",
   "pygments_lexer": "ipython3",
   "version": "3.9.7"
  }
 },
 "nbformat": 4,
 "nbformat_minor": 2
}
