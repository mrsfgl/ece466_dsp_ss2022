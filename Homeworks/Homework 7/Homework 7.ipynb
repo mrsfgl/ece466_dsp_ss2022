{
 "cells": [
  {
   "cell_type": "markdown",
   "metadata": {},
   "source": [
    "# ECE 466 Homework 7\n",
    "---\n",
    "__Spring 22__\n",
    "__Due 4/8/2022__\n",
    "\n",
    "* You have 10 extra points. I will carry your points over the other homeworks as well. So, if you score 105 in this homework, I will add 0.5 points to your total homework score for the whole semester.\n",
    "* You can collaborate on homeworks and turn in a homework for 2 people. Make sure both of you submit.\n",
    "* Include your codes and answers within the cells that are requested. Do not create additional cells. \n",
    "* __Upload the `.ipynb` document and a generated `.html`:__  "
   ]
  },
  {
   "cell_type": "markdown",
   "metadata": {},
   "source": [
    "**Your Name: [Name Surname]**"
   ]
  },
  {
   "cell_type": "code",
   "execution_count": 1,
   "metadata": {},
   "outputs": [],
   "source": [
    "import numpy as np\n",
    "import matplotlib.pyplot as plt\n",
    "from scipy import signal"
   ]
  },
  {
   "cell_type": "markdown",
   "metadata": {},
   "source": [
    "#### 1:\n",
    "\n",
    "[20] For the systems described by the following difference equations, determine $X(z)$ analytically and plot the magnitude and phase response using MATLAB freqz function:\n",
    "1. $y[n] = 2x[n]+x[n-1]-0.25y[n-1]+0.25y[n-2]$\n",
    "2. $y[n] = x[n]+2x[n-1]+x[n-2]-0.5y[n-1]-0.25y[n-2]$\n"
   ]
  },
  {
   "cell_type": "markdown",
   "metadata": {},
   "source": [
    "__Answer for 1.1:__\n",
    "\n",
    "---"
   ]
  },
  {
   "cell_type": "code",
   "execution_count": null,
   "metadata": {},
   "outputs": [],
   "source": [
    "# Codes for 1.1"
   ]
  },
  {
   "cell_type": "markdown",
   "metadata": {},
   "source": [
    "__Answer for 1.2:__\n",
    "\n",
    "---"
   ]
  },
  {
   "cell_type": "code",
   "execution_count": null,
   "metadata": {},
   "outputs": [],
   "source": [
    "# Codes for 1.2"
   ]
  },
  {
   "cell_type": "markdown",
   "metadata": {},
   "source": [
    "#### 2:\n",
    "\n",
    "[25 points] The system function $H(z)$ of a causal linear time-invariant system has the following pole-zero diagram. It is also known that $H(1)=6$. Note that the zero at z=0 is a double zero.\n",
    "\n",
    "![Figure for question 2](hw7_q2.png)\n",
    "\n",
    "1. Determine $H(z).$\n",
    "2. Determine the impulse response, $h[n]$ of the system.\n",
    "3. Determine the response of the system when the input $x[n]$ is obtained from sampling the continuous-time signal $x(t) = 50+10\\cos(200\\pi t)+30\\cos(40\\pi t)$ at a sampling frequency (angular) of $80\\pi$ rad/sec."
   ]
  },
  {
   "cell_type": "markdown",
   "metadata": {},
   "source": [
    "__Answer for 2.1:__\n",
    "\n",
    "---"
   ]
  },
  {
   "cell_type": "markdown",
   "metadata": {},
   "source": [
    "__Answer for 2.2:__\n",
    "\n",
    "---"
   ]
  },
  {
   "cell_type": "markdown",
   "metadata": {},
   "source": [
    "__Answer for 2.3:__\n",
    "\n",
    "---"
   ]
  },
  {
   "cell_type": "markdown",
   "metadata": {},
   "source": [
    "#### 3:\n",
    "\n",
    "[20 points] Determine the coefficients of a linear-phase FIR filter $$y[n] = b_0x[n]+b_1x[n-1]+b_2x[n-2]$$\n",
    "such that:\n",
    "1. It rejects completely a frequency component at $\\omega_0 = 2\\pi /3.$\n",
    "2. Its frequency response is normalized so that $H(0)=1$\n",
    "3. Compute and sketch the magnitude and phase response of the filter using `scipy.signal.freqz` to check if it satisfies the requirements.\n"
   ]
  },
  {
   "cell_type": "markdown",
   "metadata": {},
   "source": [
    "__Answer for 3.1:__\n",
    "\n",
    "---"
   ]
  },
  {
   "cell_type": "markdown",
   "metadata": {},
   "source": [
    "__Answer for 3.2:__\n",
    "\n",
    "---"
   ]
  },
  {
   "cell_type": "code",
   "execution_count": null,
   "metadata": {},
   "outputs": [],
   "source": [
    "# Code for 3.3"
   ]
  },
  {
   "cell_type": "markdown",
   "metadata": {},
   "source": [
    "#### 4:\n",
    "\n",
    "[30 points] A causal linear time-invariant system has system function: \n",
    "$$ H(z) = \\frac{(1-1.5z^{-1}-z^{-2})(1+0.9z^{-1})}{(1-z^{-1})(1+j0.7z^{-1})(1-j0.7z^{-1})}$$\n",
    "\n",
    "1. Write the difference equation that is satisfied by the system.\n",
    "2. Plot the pole-zero diagram and indicate the ROC.\n",
    "3. Sketch $H(\\omega).$\n",
    "4. State whether the following are true or false about the system.\n",
    "   - The system is stable.\n",
    "   - The impulse response approaches a constant for large n.\n",
    "   - The magnitude of the frequency response has a peak at $\\omega = \\pi /4$\n",
    "   - This is a band-pass filter."
   ]
  },
  {
   "cell_type": "markdown",
   "metadata": {},
   "source": [
    "__Answer for 4.1:__\n",
    "\n",
    "---"
   ]
  },
  {
   "cell_type": "markdown",
   "metadata": {},
   "source": [
    "__Answer for 4.2:__\n",
    "\n",
    "---"
   ]
  },
  {
   "cell_type": "markdown",
   "metadata": {},
   "source": [
    "__Answer for 4.3:__\n",
    "\n",
    "---"
   ]
  },
  {
   "cell_type": "markdown",
   "metadata": {},
   "source": [
    "__Answer for 4.4:__\n",
    "\n",
    "---"
   ]
  },
  {
   "cell_type": "markdown",
   "metadata": {},
   "source": [
    "#### 5:\n",
    "\n",
    "[15 Points] Compute the DFT of each of the following finite-length sequences considered to be of length $N$, where $N$ is even.\n",
    "\n",
    "1. $$x[n] = \\delta[n-n_0], 0\\leq n \\leq N-1$$\n",
    "2. $$x[n] = \\begin{cases} a^n, \\quad &0\\leq n\\leq N-1,\\\\0, &\\text{otherwise}.&\\end{cases}$$\n",
    "3. $$x[n] = \\begin{cases} 1, \\quad n \\text{ even},\\; &0\\leq n\\leq N-1,\\\\0, \\quad n \\text{ odd},\\; &0\\leq n\\leq N-1.&\\end{cases}$$"
   ]
  },
  {
   "cell_type": "markdown",
   "metadata": {},
   "source": [
    "__Answer for 5.1:__\n",
    "\n",
    "---"
   ]
  },
  {
   "cell_type": "markdown",
   "metadata": {},
   "source": [
    "__Answer for 5.2:__\n",
    "\n",
    "---"
   ]
  },
  {
   "cell_type": "markdown",
   "metadata": {},
   "source": [
    "__Answer for 5.3:__\n",
    "\n",
    "---"
   ]
  },
  {
   "cell_type": "markdown",
   "metadata": {},
   "source": []
  }
 ],
 "metadata": {
  "interpreter": {
   "hash": "a31061215d61cc9664fbbf891d1f871c44572af5775a986a0146f7ff7de68731"
  },
  "kernelspec": {
   "display_name": "Python 3 (ipykernel)",
   "language": "python",
   "name": "python3"
  },
  "language_info": {
   "codemirror_mode": {
    "name": "ipython",
    "version": 3
   },
   "file_extension": ".py",
   "mimetype": "text/x-python",
   "name": "python",
   "nbconvert_exporter": "python",
   "pygments_lexer": "ipython3",
   "version": "3.9.7"
  }
 },
 "nbformat": 4,
 "nbformat_minor": 2
}
