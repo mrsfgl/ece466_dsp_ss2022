{
 "cells": [
  {
   "cell_type": "markdown",
   "metadata": {},
   "source": [
    "# ECE 466 Homework 6\n",
    "---\n",
    "__Spring 22__\n",
    "__Due 4/1/2022__\n",
    "\n",
    "* You can collaborate on homeworks and turn in a homework for 2 people. Make sure both of you submit.\n",
    "* Include your codes and answers within the cells that are requested. Do not create additional cells. \n",
    "* __Upload the `.ipynb` document and a generated `.html` in a zip:__  "
   ]
  },
  {
   "cell_type": "markdown",
   "metadata": {},
   "source": [
    "**Your Name: [Name Surname]**"
   ]
  },
  {
   "cell_type": "code",
   "execution_count": 1,
   "metadata": {},
   "outputs": [],
   "source": [
    "import numpy as np\n",
    "import matplotlib.pyplot as plt\n",
    "from scipy import signal"
   ]
  },
  {
   "cell_type": "markdown",
   "metadata": {},
   "source": [
    "#### 1:\n",
    "\n",
    "[20] Determine if the Fourier Transform $X(\\omega)$ of a signal $x[n]$ is a) even or odd, and b) imarinary or real when $x[n]$ is:\n",
    "1. Real and even.\n",
    "2. Imaginary and even.\n",
    "3. Real and odd.\n",
    "4. Imaginary and odd.\n",
    "\n",
    "Show your work."
   ]
  },
  {
   "cell_type": "markdown",
   "metadata": {},
   "source": [
    "__Answer for 1.1:__\n",
    "\n",
    "---"
   ]
  },
  {
   "cell_type": "markdown",
   "metadata": {},
   "source": [
    "__Answer for 1.2:__\n",
    "\n",
    "---"
   ]
  },
  {
   "cell_type": "markdown",
   "metadata": {},
   "source": [
    "__Answer for 1.3:__\n",
    "\n",
    "---"
   ]
  },
  {
   "cell_type": "markdown",
   "metadata": {},
   "source": [
    "__Answer for 1.4:__\n",
    "\n",
    "---"
   ]
  },
  {
   "cell_type": "markdown",
   "metadata": {},
   "source": [
    "#### 2:\n",
    "\n",
    "[25 points] Determine and sketch the Fourier transforms $X_1(\\omega)$, $X_2(\\omega)$, and $X_3(\\omega)$ of the following signals:\n",
    "\n",
    "1. $x_l[n] = \\{1, 1, \\underline{1}, 1, 1\\}.$\n",
    "2. $x_2[n] = \\{1, 0, 1, 0, \\underline{1}, 0, 1, 0, 1\\}.$\n",
    "3. $x_3[n] = \\{1, 0, 0, 1, 0, 0, \\underline{1}, 0, 0, 1, 0, 0, 1\\}.$\n",
    "4. Is there any relation between $X_1(\\omega)$, $X_2(\\omega)$, and $X_3(\\omega)$? What is the physical meaning behind the relationship?\n",
    "5. Show that if \n",
    "$$x_k[n]=\\begin{cases} x\\left[\\frac{n}{k}\\right],\\quad &\\text{if $n/k$ is integer},\\\\ 0, &\\text{otherwise} \\end{cases}$$\n",
    "then $$X_k(\\omega) = X(k\\omega).$$"
   ]
  },
  {
   "cell_type": "markdown",
   "metadata": {},
   "source": [
    "__Answer for 2.1:__\n",
    "\n",
    "---"
   ]
  },
  {
   "cell_type": "markdown",
   "metadata": {},
   "source": [
    "__Answer for 2.2:__\n",
    "\n",
    "---"
   ]
  },
  {
   "cell_type": "markdown",
   "metadata": {},
   "source": [
    "__Answer for 2.3:__\n",
    "\n",
    "---"
   ]
  },
  {
   "cell_type": "markdown",
   "metadata": {},
   "source": [
    "__Answer for 2.4:__\n",
    "\n",
    "---"
   ]
  },
  {
   "cell_type": "markdown",
   "metadata": {},
   "source": [
    "__Answer for 2.5:__\n",
    "\n",
    "---"
   ]
  },
  {
   "cell_type": "markdown",
   "metadata": {},
   "source": [
    "#### 3:\n",
    "\n",
    "[15 points] A signal $x[n]$ has the following Fourier transform: $$X(\\omega)=\\frac{1}{1-ae^{-j\\omega}}$$\n",
    "Determine the Fourier transforms of the following signals: \n",
    "1. $x[2n + 1]$\n",
    "2. $e^{\\pi n/2} x[n + 2]$\n",
    "3. $x[n]cos(0.3\\pi n)$\n"
   ]
  },
  {
   "cell_type": "markdown",
   "metadata": {},
   "source": [
    "__Answer for 3.1:__\n",
    "\n",
    "---"
   ]
  },
  {
   "cell_type": "markdown",
   "metadata": {},
   "source": [
    "__Answer for 3.2:__\n",
    "\n",
    "---"
   ]
  },
  {
   "cell_type": "markdown",
   "metadata": {},
   "source": [
    "__Answer for 3.3:__\n",
    "\n",
    "---"
   ]
  },
  {
   "cell_type": "markdown",
   "metadata": {},
   "source": [
    "#### 4:\n",
    "\n",
    "[40 points] Write a python function to compute the DTFT of a finite duration sequence. The format of the function should be as following:\n",
    "\n",
    "``` python   \n",
    "def dtft(x, n, w):\n",
    "\"\"\" DTFT computed at w\n",
    "\n",
    "Parameters:\n",
    "---\n",
    "    x : finite duration sequence over n\n",
    "    n : sample position vector\n",
    "    w : frequency location vector\n",
    "\n",
    "Returns:\n",
    "---\n",
    "    X : DTFT values computed at frequencies w\n",
    "\"\"\"\n",
    "\n",
    "    return X\n",
    "```\n",
    "\n",
    "Compute the DTFT for the following sequences by using your code. Choose $\\omega$ as an array sampled between $-\\pi$ and $\\pi$ uniformly (_You can use `np.arange` for this_). Plot the magnitude and angle of $X(\\omega)$:\n",
    "1. $x[n] = \\{\\underline{4},3,2,1,2,3,4\\}$. Comment on the angle plot.\n",
    "2. $$x[n] = \\begin{cases} 1, \\quad &-N\\leq n\\leq N, \\\\ 0, &\\text{otherwise}. \\end{cases}$$ \n",
    "   Determine the DTFT for $N = 5, 25, 100$. Scale the\n",
    "DTFT so that $|X(0)|=1.$ Comment on the behavior of the magnitude plot as a function of N."
   ]
  },
  {
   "cell_type": "code",
   "execution_count": null,
   "metadata": {},
   "outputs": [],
   "source": [
    "# Code for question 4"
   ]
  },
  {
   "cell_type": "markdown",
   "metadata": {},
   "source": [
    "__Answer for 4.1:__\n",
    "\n",
    "---"
   ]
  },
  {
   "cell_type": "markdown",
   "metadata": {},
   "source": [
    "__Answer for 4.2:__\n",
    "\n",
    "---"
   ]
  }
 ],
 "metadata": {
  "interpreter": {
   "hash": "a31061215d61cc9664fbbf891d1f871c44572af5775a986a0146f7ff7de68731"
  },
  "kernelspec": {
   "display_name": "Python 3 (ipykernel)",
   "language": "python",
   "name": "python3"
  },
  "language_info": {
   "codemirror_mode": {
    "name": "ipython",
    "version": 3
   },
   "file_extension": ".py",
   "mimetype": "text/x-python",
   "name": "python",
   "nbconvert_exporter": "python",
   "pygments_lexer": "ipython3",
   "version": "3.9.7"
  }
 },
 "nbformat": 4,
 "nbformat_minor": 2
}
