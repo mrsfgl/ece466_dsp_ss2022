{
 "cells": [
  {
   "cell_type": "markdown",
   "metadata": {},
   "source": [
    "# ECE 466 Homework 2\n",
    "---\n",
    "__Spring 22__\n",
    "__Due 2/10/2022__\n",
    "\n",
    "* You have 10 extra points. I will carry your points over the other homeworks as well, so if you score 105 in this homework, I will add 0.5 points to your total homework score for the whole semester.\n",
    "* You can collaborate on homeworks and turn in a homework for 2 people.\n",
    "* Include your codes and answers within the cells that are requested. Do not create additional cells. \n",
    "* Double click on any cell to see the raw text that generates it. `shift+enter` runs a cell and shows you an output. Feel free to play with it but please return the question and description cells in the original format.\n",
    "* You can find markdown tutorials and guides by simple google search. Cheatsheets should be more useful if you are short on time.\n",
    "* Ask your questions in the [discussion forums in D2L](https://d2l.msu.edu/d2l/le/1382712/discussions/List). You can post in homework or coding related. If it's not specific to this homework $\\rightarrow$ Coding Related.\n",
    "* Office hours T-Th 4-5 pm.\n",
    "* __Upload the .ipynb document and a generated .html in a zip:__  \n",
    "* For html generation, you can google search. VSCode users: CTRL+SHIFT+P $\\rightarrow$ type 'html' $\\rightarrow$ Jupyter: Export to HTML\n",
    "\n",
    "> I will import the necessary modules for you. Please only use these modules for now. "
   ]
  },
  {
   "cell_type": "markdown",
   "metadata": {},
   "source": [
    "**Your Name: [Name Surname]**"
   ]
  },
  {
   "cell_type": "code",
   "execution_count": 2,
   "metadata": {},
   "outputs": [],
   "source": [
    "import numpy as np\n",
    "import matplotlib.pyplot as plt\n",
    "from scipy import signal"
   ]
  },
  {
   "cell_type": "markdown",
   "metadata": {},
   "source": [
    "#### 1:\n",
    "\n",
    "![Figure of cascades of two systems](figure.jpg)\n",
    "\n",
    "[12] Two discrete-time systems $T_1$ and $T_2$ are connected in cascade to form a new system $T$ as shown in the figure above. Prove or disprove the following statements. \n",
    "\n",
    "1. If $T_1$ and $T_2$ are linear, then $T$ is linear (i.e., the cascade connection of two linear systems is linear).\n",
    "2. If $T_1$ and $T_2$ are causal, then $T$ is causal. \n",
    "3. If $T_1$ and $T_2$ are stable, then $T$ is stable. \n",
    "4. If $T_1$ and $T_2$ are linear and time invariant, then interchanging their order does not change the system $T$. \n"
   ]
  },
  {
   "cell_type": "markdown",
   "metadata": {},
   "source": [
    "<span style=\"color: red;\"> Your answers for 1. should be written below in this cell. <span>"
   ]
  },
  {
   "cell_type": "markdown",
   "metadata": {},
   "source": [
    "#### 2:\n",
    "\n",
    "[10] The following input-output pairs have been observed during the operation of a linear system (_An underline below a number means that that number is the signal value at $n=0$, e.g._ $x_1[0]=2$.):\n",
    "\n",
    "$$ x_1[n] = \\{-1, \\underline{2}, 1\\} \\xrightarrow{T} y_1[n] = \\{1, \\underline{2}, -1, 0, 1\\}$$\n",
    "$$ x_2[n] = \\{1, \\underline{-1}, -1\\} \\xrightarrow{T} y_2[n] = \\{-1, \\underline{1}, 0, 2\\}$$\n",
    "$$ x_3[n] = \\{0, \\underline{1}, 1\\} \\xrightarrow{T} y_3[n] = \\{\\underline{1}, 2, 1\\}$$\n",
    "\n",
    "Is this system time invariant or not?"
   ]
  },
  {
   "cell_type": "markdown",
   "metadata": {},
   "source": [
    "<span style=\"color: red;\"> Your answers for 2. should be written below in this cell. <span>"
   ]
  },
  {
   "cell_type": "markdown",
   "metadata": {},
   "source": [
    "#### 3:\n",
    "\n",
    "[15] Determine and plot the convolution $y[n]$ of signals:\n",
    "$$ x[n] = \n",
    "        \\begin{cases}\n",
    "            \\frac{n}{3}, 0\\leq n \\leq 6\\\\\n",
    "            0, \\text{otherwise}\n",
    "        \\end{cases}$$\n",
    "\n",
    "$$ h[n] = \n",
    "        \\begin{cases}\n",
    "            1, -2\\leq n \\leq 2\\\\\n",
    "            0, \\text{otherwise}\n",
    "        \\end{cases}$$\n",
    "\n",
    "Label your axes correctly (_Hint: Mind the $x$ axis._)."
   ]
  },
  {
   "cell_type": "code",
   "execution_count": null,
   "metadata": {},
   "outputs": [],
   "source": [
    "# Your code for 3 should be written and executed in this cell."
   ]
  },
  {
   "cell_type": "markdown",
   "metadata": {},
   "source": [
    "#### 4:\n",
    "[30 points] Consider two banks. Bank \\#1 offers a 6\\% annual interest rate, but charges a \\$1 service charge each year, including the year when the account was opened. Bank \\#2 offers a 5\\% annual interest rate, and has no annual service charge. Let $x_i[n]$ represent the amount of money you deposit in bank I during year $n$ and $y_i[n]$ represent your balance in bank $i$. Assume that deposits during year $n$ are credited to the balance in year n but earn no interest until year $n+1$. \n",
    "\n",
    "1. Use difference equations to express the relation between deposits and balances for each bank. \n",
    "2. Assume that you deposit $100 in each bank in the year 2022 and make no further deposits. Solve your difference equations in part a numerically to determine your balance in each bank during years 0 through 25. Make a plot of these balances. Which bank has the larger balance in the year 2026? Which bank has the larger balance in the year 2041?"
   ]
  },
  {
   "cell_type": "markdown",
   "metadata": {},
   "source": [
    "<span style=\"color: red;\"> Your answers for 4.1. should be written below in this cell. <span>"
   ]
  },
  {
   "cell_type": "code",
   "execution_count": 1,
   "metadata": {},
   "outputs": [],
   "source": [
    "# Your code for 4.2 should be written and executed in this cell."
   ]
  },
  {
   "cell_type": "markdown",
   "metadata": {},
   "source": [
    "#### 5:  \n",
    "\\[25 points\\]\n",
    "Consider a system represented by a linear constant coefficient difference equation given by $y[n] + \\frac{1}{4}y[n-1] - \\frac{1}{8}y[n-2] = x[n] + x[n-1]$, with initial conditions $y[-1]=4$, $y[-2]=-2$ and input signal $x[n]=(-1)^nu[n]$.\n",
    "\n",
    "1. [10] Find the zero-input response and the zero-state responses. \n",
    "2. [6] Find the total response. Comment on the forced response. \n",
    "3. [6] What are the transient and steady-state responses in this case? \n",
    "4. [8] Find the impulse response of this system and comment on its stability. \n",
    "\n",
    "_You can solve the question by paper and pen and [embed an image](https://www.markdowntutorial.com/lesson/4/) in the markdown cell. Make sure that the image is legible in the output html._"
   ]
  },
  {
   "cell_type": "markdown",
   "metadata": {},
   "source": [
    "<span style=\"color: red;\"> Your answers for 5. should be written below in this cell. <span>"
   ]
  },
  {
   "cell_type": "markdown",
   "metadata": {},
   "source": [
    "#### 6:\n",
    "\\[18\\]\n",
    "Determine the impulse responses of the systems described by the following difference equations and comment on their stability: \n",
    "\n",
    "1. $y[n] = 0.6 y[n-1] - 0.08 y[n-2] + x[n]$.\n",
    "2. $y[n] + \\frac{9}{16}y[n-2] = x[n-1]$. \n",
    "3. $y[n] - 0.7 y[n-1] + 0.1 y[n-2] = 2x[n] - x[n-2]$."
   ]
  },
  {
   "cell_type": "markdown",
   "metadata": {},
   "source": [
    "<span style=\"color: red;\"> Your answers for question 6. should be written below in this cell. <span>"
   ]
  }
 ],
 "metadata": {
  "interpreter": {
   "hash": "a31061215d61cc9664fbbf891d1f871c44572af5775a986a0146f7ff7de68731"
  },
  "kernelspec": {
   "display_name": "Python 3.9.7 64-bit ('base': conda)",
   "language": "python",
   "name": "python3"
  },
  "language_info": {
   "codemirror_mode": {
    "name": "ipython",
    "version": 3
   },
   "file_extension": ".py",
   "mimetype": "text/x-python",
   "name": "python",
   "nbconvert_exporter": "python",
   "pygments_lexer": "ipython3",
   "version": "3.9.7"
  },
  "orig_nbformat": 4
 },
 "nbformat": 4,
 "nbformat_minor": 2
}
