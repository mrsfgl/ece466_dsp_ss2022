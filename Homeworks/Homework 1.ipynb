{
 "cells": [
  {
   "cell_type": "markdown",
   "metadata": {},
   "source": [
    "# ECE 466 Homework 1\n",
    "---\n",
    "__Spring 22__\n",
    "__Due 1/27/2022__\n",
    "\n",
    "* You can collaborate on homeworks and turn in a homework for 2 people.\n",
    "* You start with 12 bonus points. Think of it as me giving you points for researching markdown, jupyter notebooks, etc.\n",
    "* Include your codes and answers within the cells that are requested. Do not create additional cells. \n",
    "* Double click on any cell to see the raw text that generates it. `shift+enter` runs a cell and shows you an output. Feel free to play with it but please return the question and description cells in the original format.\n",
    "* You can find markdown tutorials and guides by simple google search. Cheatsheets should be more useful if you are short on time.\n",
    "* Ask your questions in the [discussion forums in D2L](https://d2l.msu.edu/d2l/le/1382712/discussions/List). You can post in homework or coding related. If it's not specific to this homework $\\rightarrow$ Coding Related.\n",
    "* Office hours T-Th 4-5 pm.\n",
    "* __Upload the .ipynb document and a generated .html in a zip where all of these have the name in the following format:__ `emre_sofuoglu.ipynb` \n",
    "* For html generation, you can google search. VSCode users: CTRL+SHIFT+P $\\rightarrow$ type 'html' $\\rightarrow$ Jupyter: Export to HTML\n",
    "\n",
    "> I will import the necessary modules for you. Please only use these modules for now. "
   ]
  },
  {
   "cell_type": "markdown",
   "metadata": {},
   "source": [
    "**Your Name: [Name Surname]**\n",
    "\n",
    " (Double Click Here to edit. Delete this expression after edit.)"
   ]
  },
  {
   "cell_type": "code",
   "execution_count": 1,
   "metadata": {},
   "outputs": [],
   "source": [
    "import numpy as np\n",
    "import matplotlib.pyplot as plt"
   ]
  },
  {
   "cell_type": "markdown",
   "metadata": {},
   "source": [
    "#### 1:  \n",
    "\\[18 points\\]\n",
    "For each $x[n]$ given below:\n",
    "   - Plot the signal using `np.stem()` for $-20\\leq n\\leq20$.\n",
    "   - Is the signal an energy signal or a power signal?\n",
    "   - Is it periodic or aperiodic? What's the period if it is periodic?\n",
    "   - Is it even or odd?\n",
    "\n",
    "a. $x[n]= (1.2)^{-n} \\sin{(\\frac{\\pi n}{4})} u[n]$."
   ]
  },
  {
   "cell_type": "code",
   "execution_count": 2,
   "metadata": {},
   "outputs": [],
   "source": [
    "## Your code for plotting the signal in 1.a. should be in this cell."
   ]
  },
  {
   "cell_type": "markdown",
   "metadata": {},
   "source": [
    "<span style=\"color: red;\"> Your answers for signal 1.a. should be written in this cell. (Double click on this text)<span>"
   ]
  },
  {
   "cell_type": "markdown",
   "metadata": {},
   "source": [
    "b. $x[n]= \\frac{\\sin{(\\pi n)}}{\\sin{(\\frac{\\pi n}{10})}}$."
   ]
  },
  {
   "cell_type": "code",
   "execution_count": 3,
   "metadata": {},
   "outputs": [],
   "source": [
    "## Your code for plotting the signal in 1.b. should be in this cell."
   ]
  },
  {
   "cell_type": "markdown",
   "metadata": {},
   "source": [
    "<span style=\"color: red;\"> Your answers for signal 1.b. should be written in this cell. <span>"
   ]
  },
  {
   "cell_type": "markdown",
   "metadata": {},
   "source": [
    "c. $x[n] = \\cos{(\\frac{\\pi n}{4})}\\sin{(\\frac{\\pi n}{3})}$."
   ]
  },
  {
   "cell_type": "code",
   "execution_count": 4,
   "metadata": {},
   "outputs": [],
   "source": [
    "## Your code for plotting the signal in 1.c. should be in this cell."
   ]
  },
  {
   "cell_type": "markdown",
   "metadata": {},
   "source": [
    "<span style=\"color: red;\"> Your answers for signal 1.c. should be written below in this cell. <span>"
   ]
  },
  {
   "cell_type": "markdown",
   "metadata": {},
   "source": [
    "#### 2:\n",
    "\\[15\\]\n",
    "Determine whether the following systems are linear, shift-invariant, memoryless, causal, and BIBO stable:\n",
    "\n",
    "a. $y[n] = x[-n]$.\n",
    "\n",
    "b. $y[n] = e^{x[n]}$. \n",
    "\n",
    "c. $y[n] = g[n]x[n]$ with any given $g[n]$. "
   ]
  },
  {
   "cell_type": "markdown",
   "metadata": {},
   "source": [
    "<span style=\"color: red;\"> Your answers for question 2. should be written and executed below in this cell. <span>"
   ]
  },
  {
   "cell_type": "markdown",
   "metadata": {},
   "source": [
    "#### 3:\n",
    "\\[15\\] The continuous time signal $x(t) = \\frac{\\sin{(10\\pi t)}}{10 \\pi t}$ is is the input to an ideal A/D converter with sampling period ܶ$T$, to obtain the discrete-time signal $x[n] = \\frac{\\sin{\\frac{(\\pi n)}{2}}}{\\frac{\\pi n}{2}}$. \n",
    "\n",
    "a. What is the ideal $T$ for such a conversion?\n",
    "\n",
    "b. Is your choice of $T$ unique? If not, what other $T$ s can be used? "
   ]
  },
  {
   "cell_type": "markdown",
   "metadata": {},
   "source": [
    "<span style=\"color: red;\"> Your answers for question 3. should be written and executed in this cell. <span>"
   ]
  },
  {
   "cell_type": "markdown",
   "metadata": {},
   "source": [
    "#### 4:\n",
    "\\[20\\]\n",
    "Consider the following continuous-time sinusoidal signal: $x_a(t) = \\sin{(2\\pi F_0 t)}$.\n",
    "\n",
    "The sampled version of this signal can be described by it's values every $T_s$ seconds. Namely, $x[n] = x_a(n T_s) = \\sin(2\\pi\\frac{F}{F_s} n)$.\n",
    "\n",
    "a. Plot the signals $x[n]$ with given $F_0$ for $0\\leq n\\leq 99$. $F_s = 5000 = 5$ kHz. Explain the similarities and differences between these plots.\n",
    "- $F_0 = 500 = 0.5$ kHz.\n",
    "- $F_0 = 2000 = 2$ kHz.\n",
    "- $F_0 = 3000 = 3$ kHz.\n",
    "- $F_0 = 4500 = 4.5$ kHz."
   ]
  },
  {
   "cell_type": "code",
   "execution_count": 5,
   "metadata": {},
   "outputs": [],
   "source": [
    "# Give the code of your answer for signal with F_0=0.5kHz."
   ]
  },
  {
   "cell_type": "code",
   "execution_count": 6,
   "metadata": {},
   "outputs": [],
   "source": [
    "# Give the code of your answer for signal with F_0=2kHz."
   ]
  },
  {
   "cell_type": "code",
   "execution_count": 7,
   "metadata": {},
   "outputs": [],
   "source": [
    "# Give the code of your answer for signal with F_0=3kHz."
   ]
  },
  {
   "cell_type": "code",
   "execution_count": 8,
   "metadata": {},
   "outputs": [],
   "source": [
    "# Give the code of your answer for signal with F_0=4.5kHz."
   ]
  },
  {
   "cell_type": "markdown",
   "metadata": {},
   "source": [
    "What similarities do you observe? What differences?:\n",
    "<!-- Your typed answers for question 3. should be written here. Make them bulleted please. -->"
   ]
  },
  {
   "cell_type": "markdown",
   "metadata": {},
   "source": [
    "b. Suppose that $F_0=2$ kHz and $F_s = 50$ kHz.\n",
    "* i. Plot $x[n]$. What is the frequency $f_0$ of $x[n]$?\n",
    "* ii. Plot the signal $y[n] = x[2n]$ . Is this a sinusoidal? What is the frequency?"
   ]
  },
  {
   "cell_type": "code",
   "execution_count": 9,
   "metadata": {},
   "outputs": [],
   "source": [
    "# Code for 4.b.i."
   ]
  },
  {
   "cell_type": "markdown",
   "metadata": {},
   "source": [
    "<span style=\"color: red;\"> Type the frequency of $x[n]$ here. <span>"
   ]
  },
  {
   "cell_type": "code",
   "execution_count": 10,
   "metadata": {},
   "outputs": [],
   "source": [
    "# Code for 4.b.ii."
   ]
  },
  {
   "cell_type": "markdown",
   "metadata": {},
   "source": [
    "<span style=\"color: red;\"> Type the frequency of $y[n]$ here. <span>"
   ]
  },
  {
   "cell_type": "markdown",
   "metadata": {},
   "source": [
    "#### 5: \n",
    "\\[20\\]\n",
    "An analog signal $x_a(t) = \\sin(480\\pi t) + 3 \\sin (720\\pi t)$ is sampled 600 times per second. \n",
    "\n",
    "(a) Determine the Nyquist sampling rate for $x_a(t)$. \n"
   ]
  },
  {
   "cell_type": "markdown",
   "metadata": {},
   "source": [
    "<span style=\"color: red;\"> Answer <span>"
   ]
  },
  {
   "cell_type": "markdown",
   "metadata": {},
   "source": [
    "\n",
    "(b) Determine the folding frequency. \n"
   ]
  },
  {
   "cell_type": "markdown",
   "metadata": {},
   "source": [
    "<span style=\"color: red;\"> Answer <span>"
   ]
  },
  {
   "cell_type": "markdown",
   "metadata": {},
   "source": [
    "\n",
    "(c) What are the frequencies, in radians, in the resulting discrete time signal $x[n]$? \n"
   ]
  },
  {
   "cell_type": "markdown",
   "metadata": {},
   "source": [
    "<span style=\"color: red;\"> Answer <span>"
   ]
  },
  {
   "cell_type": "markdown",
   "metadata": {},
   "source": [
    "\n",
    "(d) If $x[n]$ is passed through an ideal D/A converter, what is the reconstructed signal \n",
    "$Y_a(t)$?"
   ]
  },
  {
   "cell_type": "markdown",
   "metadata": {},
   "source": [
    "<span style=\"color: red;\"> Answer <span>"
   ]
  },
  {
   "cell_type": "markdown",
   "metadata": {},
   "source": []
  }
 ],
 "metadata": {
  "interpreter": {
   "hash": "a31061215d61cc9664fbbf891d1f871c44572af5775a986a0146f7ff7de68731"
  },
  "kernelspec": {
   "display_name": "Python 3.9.7 64-bit ('base': conda)",
   "language": "python",
   "name": "python3"
  },
  "language_info": {
   "codemirror_mode": {
    "name": "ipython",
    "version": 3
   },
   "file_extension": ".py",
   "mimetype": "text/x-python",
   "name": "python",
   "nbconvert_exporter": "python",
   "pygments_lexer": "ipython3",
   "version": "3.9.7"
  },
  "orig_nbformat": 4
 },
 "nbformat": 4,
 "nbformat_minor": 2
}
