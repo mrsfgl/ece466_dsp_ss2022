{
 "cells": [
  {
   "cell_type": "markdown",
   "metadata": {},
   "source": [
    "# ECE 466 Homework 1\n",
    "---\n",
    "__Spring 22__\n",
    "__Due 1/27/2022__\n",
    "\n",
    "* You can collaborate on homeworks and turn in a homework for 2 people.\n",
    "* You start with 12 bonus points. Think of it as me giving you points for researching markdown, jupyter notebooks, etc.\n",
    "* Include your codes and answers within the cells that are requested. Do not create additional cells. \n",
    "* Double click on any cell to see the raw text that generates it. `shift+enter` runs a cell and shows you an output. Feel free to play with it but please return the question and description cells in the original format.\n",
    "* You can find markdown tutorials and guides by simple google search. Cheatsheets should be more useful if you are short on time.\n",
    "* Ask your questions in the [discussion forums in D2L](https://d2l.msu.edu/d2l/le/1382712/discussions/List). You can post in homework or coding related. If it's not specific to this homework $\\rightarrow$ Coding Related.\n",
    "* Office hours T-Th 4-5 pm.\n",
    "* __Upload the .ipynb document and a generated .html in a zip where all of these have the name in the following format:__ `emre_sofuoglu.ipynb` \n",
    "* For html generation, you can google search. VSCode users: CTRL+SHIFT+P $\\rightarrow$ type 'html' $\\rightarrow$ Jupyter: Export to HTML\n",
    "\n",
    "> I will import the necessary modules for you. Please only use these modules for now. "
   ]
  },
  {
   "cell_type": "markdown",
   "metadata": {},
   "source": [
    "**Your Name: [Name Surname]**\n",
    "\n",
    " (Double Click Here to edit. Delete this expression after edit.)"
   ]
  },
  {
   "cell_type": "code",
   "execution_count": 1,
   "metadata": {},
   "outputs": [],
   "source": [
    "import numpy as np\n",
    "import matplotlib.pyplot as plt"
   ]
  },
  {
   "cell_type": "markdown",
   "metadata": {},
   "source": [
    "#### 1:  \n",
    "\\[18 points\\]\n",
    "For each $x[n]$ given below:\n",
    "   - Plot the signal using `np.stem()` for $-20\\leq n\\leq20$.\n",
    "   - Is the signal an energy signal or a power signal?\n",
    "   - Is it periodic or aperiodic? What's the period if it is periodic?\n",
    "   - Is it even or odd?\n",
    "\n",
    "a. $x[n]= (1.2)^{-n} \\sin{(\\frac{\\pi n}{4})} u[n]$."
   ]
  },
  {
   "cell_type": "code",
   "execution_count": 2,
   "metadata": {},
   "outputs": [
    {
     "data": {
      "image/png": "[encoded data removed]",
      "text/plain": [
       "<Figure size 432x288 with 1 Axes>"
      ]
     },
     "metadata": {
      "needs_background": "light"
     },
     "output_type": "display_data"
    }
   ],
   "source": [
    "## Your code for plotting the signal in 1.a. should be in this cell.\n",
    "n = np.arange(-20, 21)\n",
    "u = np.zeros_like(n)\n",
    "u[n] = n>=0\n",
    "x = np.zeros_like(n, dtype=float)\n",
    "x[n] = 1.2**(-n)*np.sin((np.pi/4)*n)*u[n]\n",
    "\n",
    "plt.stem(n, x[n])\n",
    "plt.xlabel('n')\n",
    "plt.ylabel('x[n]')\n",
    "plt.show()"
   ]
  },
  {
   "cell_type": "markdown",
   "metadata": {},
   "source": [
    "<span style=\"color: red;\"> Your answers for signal 1.a. should be written in this cell. (Double click on this text)<span>\n",
    "- This is an energy signal as the integral of the magnitude converges to a constant value.\n",
    "- This signal is aperiodic as the values constantly drop, so $x[n]\\neq x[n+N]$ for any $N$.\n",
    "- This signal doesn't have any type of symmetry, so it's neither even, nor odd."
   ]
  },
  {
   "cell_type": "markdown",
   "metadata": {},
   "source": [
    "b. $x[n]= \\frac{\\sin{(\\pi n)}}{\\sin{(\\frac{\\pi n}{10})}}$."
   ]
  },
  {
   "cell_type": "code",
   "execution_count": 3,
   "metadata": {},
   "outputs": [
    {
     "name": "stderr",
     "output_type": "stream",
     "text": [
      "C:\\Users\\emres\\AppData\\Local\\Temp/ipykernel_10556/475937016.py:2: RuntimeWarning: invalid value encountered in true_divide\n",
      "  x[n] = np.sin(np.pi*n)/np.sin((np.pi/10)*n)\n"
     ]
    },
    {
     "data": {
      "image/png": "[encoded data removed]",
      "text/plain": [
       "<Figure size 432x288 with 1 Axes>"
      ]
     },
     "metadata": {
      "needs_background": "light"
     },
     "output_type": "display_data"
    }
   ],
   "source": [
    "## Your code for plotting the signal in 1.b. should be in this cell.\n",
    "x[n] = np.sin(np.pi*n)/np.sin((np.pi/10)*n)\n",
    "x[0] = 10 # Numeric error should be taken into account.\n",
    "plt.stem(n, x[n])\n",
    "plt.xlabel('n')\n",
    "plt.ylabel('x[n]')\n",
    "plt.show()"
   ]
  },
  {
   "cell_type": "markdown",
   "metadata": {},
   "source": [
    "<span style=\"color: red;\"> Your answers for signal 1.b. should be written in this cell. <span>\n",
    "\n",
    "- This is a power signal with power $2*10^2/20=10$ Watts. \n",
    "- It is periodic with period $20$.\n",
    "- The signal has even symmetry."
   ]
  },
  {
   "cell_type": "markdown",
   "metadata": {},
   "source": [
    "c. $x[n] = \\cos{(\\frac{\\pi n}{4})}\\sin{(\\frac{\\pi n}{3})}$."
   ]
  },
  {
   "cell_type": "code",
   "execution_count": 4,
   "metadata": {},
   "outputs": [
    {
     "name": "stdout",
     "output_type": "stream",
     "text": [
      "Power is: 0.25\n"
     ]
    },
    {
     "data": {
      "image/png": "[encoded data removed]",
      "text/plain": [
       "<Figure size 432x288 with 1 Axes>"
      ]
     },
     "metadata": {
      "needs_background": "light"
     },
     "output_type": "display_data"
    }
   ],
   "source": [
    "## Your code for plotting the signal in 1.c. should be in this cell.\n",
    "x[n] = np.cos(np.pi/4*n)*np.sin(np.pi/3*n)\n",
    "pow = sum(x[np.arange(-12,13)]**2)/24\n",
    "print('Power is: {:.2f}'.format(pow))\n",
    "\n",
    "plt.stem(n, x[n])\n",
    "plt.xlabel('n')\n",
    "plt.ylabel('x[n]')\n",
    "plt.show()"
   ]
  },
  {
   "cell_type": "markdown",
   "metadata": {},
   "source": [
    "<span style=\"color: red;\"> Your answers for signal 1.c. should be written below in this cell. <span>\n",
    "- This is a power signal with power $0.25$ Watts.\n",
    "- A periodic signal with period 24.\n",
    "- Odd symmetry."
   ]
  },
  {
   "cell_type": "markdown",
   "metadata": {},
   "source": [
    "#### 2:\n",
    "\\[15\\]\n",
    "Determine whether the following systems are linear, shift-invariant, memoryless, causal, and BIBO stable:\n",
    "\n",
    "a. $y[n] = x[-n]$.\n",
    "\n",
    "b. $y[n] = e^{x[n]}$. \n",
    "\n",
    "c. $y[n] = g[n]x[n]$ with any given $g[n]$. "
   ]
  },
  {
   "cell_type": "markdown",
   "metadata": {},
   "source": [
    "<span style=\"color: red;\"> Your answers for question 2. should be written and executed below in this cell. <span>\n",
    "\n",
    "a. \n",
    "- Linear: $y_1[n] = x_1[-n]$, $y_2[n] = x_2[-n]$, $y[n] = T[a_1x_1[n]+a_2x_2[n]] = a_1 x_1[-n] + a_2 x_2[-n] = a_1 y_1[n] + a_2 y_2[n]$.\n",
    "- Time varying: $y[n-n_0] = x[-n-n_0] = T[x[n+n_0]]$\n",
    "- Dynamic: $y[1] = x[-1]$.\n",
    "- Non-causal: $y[-1] = x[1]$.\n",
    "- BIBO stable: $|x[n]|\\leq M, \\forall n$, then $|y[n]|\\leq M \\forall n$.\n",
    "\n",
    "b. \n",
    "- Non-linear: $y[n] = T[a_1x_1[n]+a_2x_2[n]] = e^{a_1x_1[n]+a_2x_2[n]} = e^{a_1x_1[n]} e^{a_2x_2[n]} \\neq a_1e^{x_1[n]} + a_2e^{x_2[n]}=a_1y_1[n] + a_2y_2[n]$.\n",
    "- Time invariant: $y[n-n_0] = e^{x[n-n_0]} = T[x[n-n_0]]$.\n",
    "- Static: $y[n_0] = T[x[n_0]]$.\n",
    "- Causal: If static, then causal.\n",
    "- BIBO stable: $|x[n]|\\leq M, \\forall n$, then $|y[n]|= |e^{x[n]}|\\leq e^{|x[n|} \\leq e^M \\forall n$.\n",
    "\n",
    "c. \n",
    "- Linear: $y_1[n] = g[n]x_1[n]$, $y_2[n] = g[n]x_2[n]$, $y[n] = T[a_1x_1[n]+a_2x_2[n]] = g[n](a_1x_1[n]+a_2x_2[n]) = a_1g[n]x_1[n]+a_2g[n]x_2[n] = a_1y_1[n]+a_2y_2[n]$.\n",
    "- Time varying: $y[n-k] = g[n-k] x[n-k] \\neq T[x[n-k]] = g[n] x[n-k]$.\n",
    "- Static: $y[n_0] = T[x[n_0]]$.\n",
    "- Causal: If static, then causal.\n",
    "- BIBO unstable: $|x[n]|\\leq M, \\forall n$, then $|y[n]|= |g[n]x[n]|\\leq |g[n]||x[n]|\\leq M|g[n]|$. Unless $|g[n]|\\leq K$, for some $K\\in \\mathbb{R}$."
   ]
  },
  {
   "cell_type": "markdown",
   "metadata": {},
   "source": [
    "#### 3:\n",
    "\\[15\\] The continuous time signal $x(t) = \\frac{\\sin{(10\\pi t)}}{10 \\pi t}$ is is the input to an ideal A/D converter with sampling period ܶ$T$, to obtain the discrete-time signal $x[n] = \\frac{\\sin{\\frac{(\\pi n)}{2}}}{\\frac{\\pi n}{2}}$. \n",
    "\n",
    "a. What is the ideal $T$ for such a conversion?\n",
    "\n",
    "b. Is your choice of $T$ unique? If not, what other $T$ s can be used? "
   ]
  },
  {
   "cell_type": "markdown",
   "metadata": {},
   "source": [
    "<span style=\"color: red;\"> Your answers for question 3. should be written and executed in this cell. <span>\n",
    "\n",
    "a. $T=1/20$ s\n",
    "\n",
    "b. __It is unique, due to the denominator.__ Otherwise, there would have been infinitely many $T$ 's that achieve the same discrete signal and it would be defined as $T = \\frac{4k+1}{20}$, for all integer $k$. To see this, we can start our sampling from analog signal with an additional angle of $2\\pi k$ as $$\\sin(2\\pi\\frac{5}{T} n) = \\sin(2\\pi\\frac{5}{T} n+ 2\\pi k_0) = \\sin(2\\pi\\frac{5+T k_0}{T} n)$$ for any integer $k_0$. Then, we need $\\frac{5+T k_0}{T}=0.25$, which makes $T = \\frac{1-4k_0}{20}= \\frac{4k+1}{20}$, where $k=-k_0$ are all integers."
   ]
  },
  {
   "cell_type": "code",
   "execution_count": 5,
   "metadata": {},
   "outputs": [
    {
     "name": "stderr",
     "output_type": "stream",
     "text": [
      "C:\\Users\\emres\\AppData\\Local\\Temp/ipykernel_10556/989200301.py:3: RuntimeWarning: invalid value encountered in true_divide\n",
      "  x[n] = np.sin(2*np.pi*5*T_s*n)/(2*np.pi*5*T_s*n)\n"
     ]
    },
    {
     "data": {
      "image/png": "[encoded data removed]",
      "text/plain": [
       "<Figure size 432x288 with 1 Axes>"
      ]
     },
     "metadata": {
      "needs_background": "light"
     },
     "output_type": "display_data"
    }
   ],
   "source": [
    "# Here's how that looks like. Feel free to play with T to see how it differs.\n",
    "T_s = 1/20\n",
    "x[n] = np.sin(2*np.pi*5*T_s*n)/(2*np.pi*5*T_s*n)\n",
    "x[0] = 1 # Numeric error should be taken into account.\n",
    "plt.stem(n, x[n])\n",
    "plt.xlabel('n')\n",
    "plt.ylabel('x[n]')\n",
    "plt.show()"
   ]
  },
  {
   "cell_type": "markdown",
   "metadata": {},
   "source": [
    "#### 4:\n",
    "\\[20\\]\n",
    "Consider the following continuous-time sinusoidal signal: $x_a(t) = \\sin{(2\\pi F_0 t)}$.\n",
    "\n",
    "The sampled version of this signal can be described by it's values every $T_s$ seconds. Namely, $x[n] = x_a(n T_s) = \\sin(2\\pi\\frac{F_0}{F_s} n)$.\n",
    "\n",
    "a. Plot the signals $x[n]$ with given $F_0$ for $0\\leq n\\leq 99$. $F_s = 5000 = 5$ kHz. Explain the similarities and differences between these plots.\n",
    "- $F_0 = 500 = 0.5$ kHz.\n",
    "- $F_0 = 2000 = 2$ kHz.\n",
    "- $F_0 = 3000 = 3$ kHz.\n",
    "- $F_0 = 4500 = 4.5$ kHz."
   ]
  },
  {
   "cell_type": "code",
   "execution_count": 6,
   "metadata": {},
   "outputs": [
    {
     "data": {
      "image/png": "[encoded data removed]",
      "text/plain": [
       "<Figure size 432x288 with 1 Axes>"
      ]
     },
     "metadata": {
      "needs_background": "light"
     },
     "output_type": "display_data"
    }
   ],
   "source": [
    "# Give the code of your answer for signal with F_0=0.5kHz.\n",
    "F_s = 5000\n",
    "F_0 = 500\n",
    "x[n] = np.sin(2*np.pi*(F_0/F_s)*n)\n",
    "plt.stem(n, x[n])\n",
    "plt.xlabel('n')\n",
    "plt.ylabel('x[n]')\n",
    "plt.show()"
   ]
  },
  {
   "cell_type": "code",
   "execution_count": 7,
   "metadata": {},
   "outputs": [
    {
     "data": {
      "image/png": "[encoded data removed]",
      "text/plain": [
       "<Figure size 432x288 with 1 Axes>"
      ]
     },
     "metadata": {
      "needs_background": "light"
     },
     "output_type": "display_data"
    }
   ],
   "source": [
    "# Give the code of your answer for signal with F_0=2kHz.\n",
    "F_0 = 2000\n",
    "x[n] = np.sin(2*np.pi*(F_0/F_s)*n)\n",
    "plt.stem(n, x[n])\n",
    "plt.xlabel('n')\n",
    "plt.ylabel('x[n]')\n",
    "plt.show()"
   ]
  },
  {
   "cell_type": "code",
   "execution_count": 8,
   "metadata": {},
   "outputs": [
    {
     "data": {
      "image/png": "[encoded data removed]",
      "text/plain": [
       "<Figure size 432x288 with 1 Axes>"
      ]
     },
     "metadata": {
      "needs_background": "light"
     },
     "output_type": "display_data"
    }
   ],
   "source": [
    "# Give the code of your answer for signal with F_0=3kHz.\n",
    "F_0 = 3000\n",
    "x[n] = np.sin(2*np.pi*(F_0/F_s)*n)\n",
    "plt.stem(n, x[n])\n",
    "plt.xlabel('n')\n",
    "plt.ylabel('x[n]')\n",
    "plt.show()"
   ]
  },
  {
   "cell_type": "code",
   "execution_count": 9,
   "metadata": {},
   "outputs": [
    {
     "data": {
      "image/png": "[encoded data removed]",
      "text/plain": [
       "<Figure size 432x288 with 1 Axes>"
      ]
     },
     "metadata": {
      "needs_background": "light"
     },
     "output_type": "display_data"
    }
   ],
   "source": [
    "# Give the code of your answer for signal with F_0=4.5kHz.\n",
    "F_0 = 4500\n",
    "x[n] = np.sin(2*np.pi*(F_0/F_s)*n)\n",
    "plt.stem(n, x[n])\n",
    "plt.xlabel('n')\n",
    "plt.ylabel('x[n]')\n",
    "plt.show()"
   ]
  },
  {
   "cell_type": "markdown",
   "metadata": {},
   "source": [
    "What similarities do you observe? What differences?:\n",
    "<!-- Your typed answers for question 3. should be written here. Make them bulleted please. -->\n",
    "- The frequencies fold around $5/2=2.5$ kHz. So the $3000$ Hz signal has the same period with $2000$, and $4500$ has the same period as $500$.\n",
    "- The phases become negative for folded signals. This is because in discrete signal, $F_0=4500$ behaves the same as $F_0=-500$ and $\\sin(.)$ is an odd symmetrical function. \n",
    "\n",
    "_Note: All of these are due to fundamental frequency of a discrete periodic signal being in range $(-1/2, 1/2)$. This effectively tells us that if we do not have at least two values at every period, our signal cannot be periodic. Any signals having frequencies outside this range have their frequencies folded until it gets within the range._"
   ]
  },
  {
   "cell_type": "markdown",
   "metadata": {},
   "source": [
    "b. Suppose that $F_0=2$ kHz and $F_s = 50$ kHz.\n",
    "* i. Plot $x[n]$. What is the frequency $f_0$ of $x[n]$?\n",
    "* ii. Plot the signal $y[n] = x[2n]$ . Is this a sinusoidal? What is the frequency?"
   ]
  },
  {
   "cell_type": "code",
   "execution_count": 10,
   "metadata": {},
   "outputs": [
    {
     "data": {
      "image/png": "[encoded data removed]",
      "text/plain": [
       "<Figure size 432x288 with 1 Axes>"
      ]
     },
     "metadata": {
      "needs_background": "light"
     },
     "output_type": "display_data"
    }
   ],
   "source": [
    "# Code for 4.b.i.\n",
    "F_0 = 2000\n",
    "F_s = 5e4\n",
    "x[n] = np.sin(2*np.pi*(F_0/F_s)*n)\n",
    "plt.stem(n, x[n])\n",
    "plt.xlabel('n')\n",
    "plt.ylabel('x[n]')\n",
    "plt.show()"
   ]
  },
  {
   "cell_type": "markdown",
   "metadata": {},
   "source": [
    "<span style=\"color: red;\"> Type the frequency of $x[n]$ here. <span>\n",
    "\n",
    "$f_0 = \\frac{F_0}{F_s} = \\frac{1}{25} = 0.04$."
   ]
  },
  {
   "cell_type": "code",
   "execution_count": 11,
   "metadata": {},
   "outputs": [
    {
     "data": {
      "image/png": "[encoded data removed]",
      "text/plain": [
       "<Figure size 432x288 with 1 Axes>"
      ]
     },
     "metadata": {
      "needs_background": "light"
     },
     "output_type": "display_data"
    }
   ],
   "source": [
    "# Code for 4.b.ii.\n",
    "y = np.zeros_like(x)\n",
    "y[n] = np.sin(2*np.pi*(F_0/F_s)*2*n) # I didn't sample from x[2n] as negative values multiplied by two behave in a weird manner. \n",
    "plt.stem(n, y[n])\n",
    "plt.xlabel('n')\n",
    "plt.ylabel('y[n] = x[2n]')\n",
    "plt.show()"
   ]
  },
  {
   "cell_type": "markdown",
   "metadata": {},
   "source": [
    "<span style=\"color: red;\"> Type the frequency of $y[n]$ here. <span>\n",
    "\n",
    "_We resample $x[n]$, when we set $y[n]=x[2n]$. The resampling rate is every two indices of $x[n]$. Intuitively, this should mean that the period of $x[n]$ is halved after the conversion. So our frequency doubles to $0.08$. Note that the period is $25/2=12.5$. This means that we cannot get integer indices at every period. So, in essence we can get $y[n]=y[n+N]$ only when $N=25*k$ where $k$ is an integer. Thus, the period of $y[n]$ is still $25$, which makes the frequency $f_0=1/25=0.04$. Check the above plot to see that the signal indeed does not repeat itself at every $12.5$ indices, as it has integer indices._\n",
    "\n",
    "- $f_0 = 1/N_y$\n",
    "- $y[n] = x[2n] = y[n+N_y] = x[2n+2*N_y]$\n",
    "- $2*N_y = N_x \\rightarrow N_y = 12.5k$, where $k$ is an integer.\n",
    "- $N_y$ has to be integer, which applies only to even $k$. Thus, the effective period of $y[n]$ doubles.\n",
    "- $N_y = 12.5*2 k'= 25 k'$, where $k'$ is any integer.\n",
    "- $f_0 = 1/25 = 0.04$"
   ]
  },
  {
   "cell_type": "markdown",
   "metadata": {},
   "source": [
    "#### 5: \n",
    "\\[20\\]\n",
    "An analog signal $x_a(t) = \\sin(480\\pi t) + 3 \\sin (720\\pi t)$ is sampled 600 times per second. \n",
    "\n",
    "(a) Determine the Nyquist sampling rate for $x_a(t)$. \n"
   ]
  },
  {
   "cell_type": "markdown",
   "metadata": {},
   "source": [
    "<span style=\"color: red;\"> 5 (a) <span>\n",
    "\n",
    "_Nyquist sampling rate is $T_s = 1/720$ s or Nyquist frequency is $F_s = 720$ Hz._"
   ]
  },
  {
   "cell_type": "markdown",
   "metadata": {},
   "source": [
    "\n",
    "(b) Determine the folding frequency. \n"
   ]
  },
  {
   "cell_type": "markdown",
   "metadata": {},
   "source": [
    "<span style=\"color: red;\"> 5 (b) <span>\n",
    "\n",
    "_Folding frequency for the sampling given above is $F_{s_0}/2 = 600/2 = 300$._"
   ]
  },
  {
   "cell_type": "markdown",
   "metadata": {},
   "source": [
    "(c) What are the frequencies, in radians, in the resulting discrete time signal $x[n]$? "
   ]
  },
  {
   "cell_type": "markdown",
   "metadata": {},
   "source": [
    "<span style=\"color: red;\"> 5 (c) <span>\n",
    "\n",
    "$x[n] = \\sin(2 \\pi \\frac{240}{600} n) + 3\\sin(2 \\pi \\frac{360}{600} n) = \\sin(2 \\pi (0.4) n) + 3\\sin(2 \\pi (0.6) n) = \\sin(2 \\pi (0.4) n) + 3\\sin(2 \\pi (-0.4) n) = \\sin(0.8 \\pi n) - 3\\sin(0.8 \\pi n) = -2 \\sin(0.8\\pi n)$\n",
    "\n",
    "_Notice that I set $0.6=-0.4$. This is because we cannot have a discrete frequency above $0.5$. So we subtract $2\\pi$ from the function operator of sine, which makes $2\\pi(0.6)n-2\\pi n = 2\\pi(-0.4)$. $0.8 \\pi$ is the angular frequency of $x[n]$. Whenever you see an $f_0$ outside the range (-1/2,1/2) you should compute the distance to the closest integer, and if it is smaller, set the sign negative. E.g. $$f_0 = 1.45 \\rightarrow (1+0.45) \\rightarrow 0.45$$, or $$f_0 = -3.55\\rightarrow (-4+0.45) \\rightarrow 0.45$$, or $$f_0 = 6.65 \\rightarrow (7-0.35) \\rightarrow -0.35$$, etc._"
   ]
  },
  {
   "cell_type": "markdown",
   "metadata": {},
   "source": [
    "\n",
    "(d) If $x[n]$ is passed through an ideal D/A converter, what is the reconstructed signal \n",
    "$Y_a(t)$?"
   ]
  },
  {
   "cell_type": "markdown",
   "metadata": {},
   "source": [
    "<span style=\"color: red;\"> 5 (d) <span>\n",
    "\n",
    "Using the digital signal with frequency within the range $(-1/2, 1/2)$, we replace $n$ with $t/T$ or $tF$ where $F=600$ Hz or $T=1/600$ s. We always use the fundamental frequency for D/A conversion.\n",
    "\n",
    "$Y_a(t) = x[t/T] = -2 \\sin(0.8\\pi 600 t) = -2\\sin(480\\pi t)$"
   ]
  },
  {
   "cell_type": "markdown",
   "metadata": {},
   "source": []
  }
 ],
 "metadata": {
  "interpreter": {
   "hash": "a31061215d61cc9664fbbf891d1f871c44572af5775a986a0146f7ff7de68731"
  },
  "kernelspec": {
   "display_name": "Python 3.9.7 64-bit ('base': conda)",
   "language": "python",
   "name": "python3"
  },
  "language_info": {
   "codemirror_mode": {
    "name": "ipython",
    "version": 3
   },
   "file_extension": ".py",
   "mimetype": "text/x-python",
   "name": "python",
   "nbconvert_exporter": "python",
   "pygments_lexer": "ipython3",
   "version": "3.9.7"
  },
  "orig_nbformat": 4
 },
 "nbformat": 4,
 "nbformat_minor": 2
}
