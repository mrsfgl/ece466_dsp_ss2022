{
 "cells": [
  {
   "cell_type": "markdown",
   "metadata": {},
   "source": [
    "# ECE 466 Homework 3\n",
    "---\n",
    "__Spring 22__\n",
    "__Due 2/17/2022__\n",
    "\n",
    "* You have 10 extra points. I will carry your points over the other homeworks as well. So, if you score 105 in this homework, I will add 0.5 points to your total homework score for the whole semester.\n",
    "* You can solve the question by paper and pen and [embed an image](https://www.markdowntutorial.com/lesson/4/) in the markdown cell. Make sure that the image is legible in the output `.html` file.\n",
    "* You can collaborate on homeworks and turn in a homework for 2 people. Make sure both of you submit.\n",
    "* Include your codes and answers within the cells that are requested. Do not create additional cells. \n",
    "* __Upload the `.ipynb` document and a generated `.html` in a zip:__  \n",
    "\n",
    "> I will import the necessary modules for you. Please only use these modules for now. "
   ]
  },
  {
   "cell_type": "markdown",
   "metadata": {},
   "source": [
    "**Your Name: [Name Surname]**"
   ]
  },
  {
   "cell_type": "code",
   "execution_count": 2,
   "metadata": {},
   "outputs": [],
   "source": [
    "import numpy as np\n",
    "import matplotlib.pyplot as plt\n",
    "from scipy import signal"
   ]
  },
  {
   "cell_type": "markdown",
   "metadata": {},
   "source": [
    "#### 1:\n",
    "\n",
    "[20] Determine the z-transform of the following signals and define the ROC. \n",
    "\n",
    "1. $x[n] = \\{3,0,0,0,\\underline{6},1,-4\\}$\n",
    "2. $x[n] = -n(-1)^n u(n-1)$\n",
    "3. $x[n] = (-1)^n\\cos(\\frac{\\pi}{3}n)$\n",
    "4. $x[n] = (\\frac{1}{2})^n(u(n)-u(n-10))$\n"
   ]
  },
  {
   "cell_type": "markdown",
   "metadata": {},
   "source": [
    "<span style=\"color: red;\"> Your answers for 1. should be written below in this cell. <span>"
   ]
  },
  {
   "cell_type": "markdown",
   "metadata": {},
   "source": [
    "#### 2:\n",
    "\n",
    "[20] Consider the recursive discrete-time system described by the difference equation:\n",
    "$$ y[n] = -a_1y[n-1]-a_2y[n-2]+b_0x[n],$$\n",
    "where $a_1 = -0.8$, $a_2=0.64$, and $b_0=0.866$.  (_Hint: Check out [lfilter](https://docs.scipy.org/doc/scipy/reference/generated/scipy.signal.lfilter.html?highlight=filter#scipy.signal.lfilter), [impulse](https://docs.scipy.org/doc/scipy/reference/generated/scipy.signal.impulse.html#scipy.signal.impulse), and [convolve](https://numpy.org/doc/stable/reference/generated/numpy.convolve.html)_)\n",
    "\n",
    "\n",
    "1. Write a code to compute and plot the impulse response $h[n]$ of the system for $0\\leq n \\leq 49$.\n",
    "2. Write a code to compute and plot the zero-state step response $s[n]$ of the system for $0 \\leq n \\leq 99$.\n",
    "3. Define an FIR system with impulse response $h_{FIR}[n]$ given by \n",
    "   \n",
    "    $h_{FIR}[n] = \\begin{cases}h[n], \\quad&0\\leq n \\leq 19\\\\0, &\\text{otherwise.}\\end{cases}$\n",
    "\n",
    "    where $h[n]$ is the impulse response computed in part (1). Write a code to compute and plot its step response.\n",
    "4. Compare the results obtained in parts (2) and (3) and explain their similarities and differences."
   ]
  },
  {
   "cell_type": "code",
   "execution_count": null,
   "metadata": {},
   "outputs": [],
   "source": [
    "# Your code for 2.1 should be written and executed in this cell."
   ]
  },
  {
   "cell_type": "code",
   "execution_count": null,
   "metadata": {},
   "outputs": [],
   "source": [
    "# Your code for 2.2 should be written and executed in this cell."
   ]
  },
  {
   "cell_type": "code",
   "execution_count": null,
   "metadata": {},
   "outputs": [],
   "source": [
    "# Your code for 2.3 should be written and executed in this cell."
   ]
  },
  {
   "cell_type": "markdown",
   "metadata": {},
   "source": [
    "<span style=\"color: red;\"> Your answers for 2.4 should be written below in this cell. <span>"
   ]
  },
  {
   "cell_type": "markdown",
   "metadata": {},
   "source": [
    "#### 3:\n",
    "\n",
    "[20] Determine the z-transforms of the following signals and describe the pole-zero patterns and ROC. You can use the properties of z-transform. \n",
    "\n",
    "1. $x[n] = (n+1)u[n]$."
   ]
  },
  {
   "cell_type": "markdown",
   "metadata": {},
   "source": [
    "<span style=\"color: red;\"> Your answers for 3.1 should be written below in this cell. <span>"
   ]
  },
  {
   "cell_type": "markdown",
   "metadata": {},
   "source": [
    "2. $x[n] = \\begin{cases} (\\frac{1}{3})^n, \\quad & n\\geq 0 \\\\ (\\frac{1}{2})^{-n}, & n <0  \\end{cases}$."
   ]
  },
  {
   "cell_type": "markdown",
   "metadata": {},
   "source": [
    "<span style=\"color: red;\"> Your answers for 3.2 should be written below in this cell. <span>"
   ]
  },
  {
   "cell_type": "markdown",
   "metadata": {},
   "source": [
    "3. $x[n] = (\\frac{1}{4})^n(u[n]-u[n-5])$."
   ]
  },
  {
   "cell_type": "markdown",
   "metadata": {},
   "source": [
    "<span style=\"color: red;\"> Your answers for 3.3 should be written below in this cell. <span>"
   ]
  },
  {
   "cell_type": "markdown",
   "metadata": {},
   "source": [
    "4. $x[n] = (\\frac{1}{2})^nu[n] \\ast 2^n u[n-1]$."
   ]
  },
  {
   "cell_type": "markdown",
   "metadata": {},
   "source": [
    "<span style=\"color: red;\"> Your answers for 3.4 should be written below in this cell. <span>"
   ]
  },
  {
   "cell_type": "markdown",
   "metadata": {},
   "source": [
    "5. $x[n] = n\\sin(\\frac{\\pi}{2}n)u[-n]$."
   ]
  },
  {
   "cell_type": "markdown",
   "metadata": {},
   "source": [
    "<span style=\"color: red;\"> Your answers for 3.5 should be written below in this cell. <span>"
   ]
  },
  {
   "cell_type": "markdown",
   "metadata": {},
   "source": [
    "#### 4:\n",
    "[20] Given the z-transform pair $n^23^nu[n]\\leftrightarrow X(z)$, use the z-transform properties \n",
    "to determine the time domain signals corresponding to the following z transforms: \n",
    "\n",
    "1. $Y(z) = X(2z)$"
   ]
  },
  {
   "cell_type": "markdown",
   "metadata": {},
   "source": [
    "<span style=\"color: red;\"> Your answers for 4.1. should be written below in this cell. <span>"
   ]
  },
  {
   "cell_type": "markdown",
   "metadata": {},
   "source": [
    "2. $Y(z) = \\frac{z^2-z^{-2}}{2}X(z)$"
   ]
  },
  {
   "cell_type": "markdown",
   "metadata": {},
   "source": [
    "<span style=\"color: red;\"> Your answers for 4.2. should be written below in this cell. <span>"
   ]
  },
  {
   "cell_type": "markdown",
   "metadata": {},
   "source": [
    "3. $Y(z) = \\frac{\\delta X(z)}{\\delta z}$"
   ]
  },
  {
   "cell_type": "markdown",
   "metadata": {},
   "source": [
    "<span style=\"color: red;\"> Your answers for 4.3. should be written below in this cell. <span>"
   ]
  },
  {
   "cell_type": "markdown",
   "metadata": {},
   "source": [
    "4. $Y(z) = X(z^-1)$"
   ]
  },
  {
   "cell_type": "markdown",
   "metadata": {},
   "source": [
    "<span style=\"color: red;\"> Your answers for 4.4. should be written below in this cell. <span>"
   ]
  },
  {
   "cell_type": "markdown",
   "metadata": {},
   "source": [
    "#### 5:  \n",
    "[10]\n",
    "Compute the time domain signals with the z-transform described by: \n",
    "\n",
    "1. $X(z) = \\frac{1}{1-z^{-1}+\\frac{1}{2}z^{-2}}$."
   ]
  },
  {
   "cell_type": "markdown",
   "metadata": {},
   "source": [
    "<span style=\"color: red;\"> Your answers for 5.1 should be written below in this cell. <span>"
   ]
  },
  {
   "cell_type": "markdown",
   "metadata": {},
   "source": [
    "2. $X(z) = \\frac{5z^{-1}}{(1-2z^{-1})(3-z^{-1})}$."
   ]
  },
  {
   "cell_type": "markdown",
   "metadata": {},
   "source": [
    "<span style=\"color: red;\"> Your answers for 5.2 should be written below in this cell. <span>"
   ]
  },
  {
   "cell_type": "markdown",
   "metadata": {},
   "source": [
    "#### 6:\n",
    "[20] A causal discrete-time system is implemented using the difference equation:\n",
    "$$y[n] = 0.2 y[n-1] + x[n] + 0.5 x[n-1]$$\n",
    "\n",
    "1. Find the system function $H(z)$."
   ]
  },
  {
   "cell_type": "markdown",
   "metadata": {},
   "source": [
    "<span style=\"color: red;\"> Your answers for question 6.1. should be written below in this cell. <span>"
   ]
  },
  {
   "cell_type": "markdown",
   "metadata": {},
   "source": [
    "2. Determine the pole-zero patterns using `scipy.signal`. Comment on the stability of the system. "
   ]
  },
  {
   "cell_type": "code",
   "execution_count": null,
   "metadata": {},
   "outputs": [],
   "source": [
    "# Your code for 6.2 should be written and executed in this cell."
   ]
  },
  {
   "cell_type": "markdown",
   "metadata": {},
   "source": [
    "<span style=\"color: red;\"> Your answers for question 6.2. should be written below in this cell. <span>"
   ]
  },
  {
   "cell_type": "markdown",
   "metadata": {},
   "source": [
    "3. What is the impulse response of this system, $h[n]$? Verify $h[n]$ using `impulse` in `scipy.signal` for the first ten time points."
   ]
  },
  {
   "cell_type": "code",
   "execution_count": null,
   "metadata": {},
   "outputs": [],
   "source": [
    "# Your code for 6.3 should be written and executed in this cell."
   ]
  },
  {
   "cell_type": "markdown",
   "metadata": {},
   "source": [
    "<span style=\"color: red;\"> Your answers for question 6.3. should be written below in this cell. <span>"
   ]
  },
  {
   "cell_type": "markdown",
   "metadata": {},
   "source": [
    "4. Find the zero-state response of the system to the input signal $𝑥[𝑛] = (\\frac{1}{3})^n𝑢[𝑛]$.\n",
    "What is the steady-state response of the system? Verify your answer using `lfilter`. (_Hint: Use z-transforms to solve the problem._)"
   ]
  },
  {
   "cell_type": "code",
   "execution_count": null,
   "metadata": {},
   "outputs": [],
   "source": [
    "# Your code for 6.4 should be written and executed in this cell."
   ]
  },
  {
   "cell_type": "markdown",
   "metadata": {},
   "source": [
    "<span style=\"color: red;\"> Your answers for question 6.4. should be written below in this cell. <span>"
   ]
  }
 ],
 "metadata": {
  "interpreter": {
   "hash": "a31061215d61cc9664fbbf891d1f871c44572af5775a986a0146f7ff7de68731"
  },
  "kernelspec": {
   "display_name": "Python 3.9.7 64-bit ('base': conda)",
   "language": "python",
   "name": "python3"
  },
  "language_info": {
   "codemirror_mode": {
    "name": "ipython",
    "version": 3
   },
   "file_extension": ".py",
   "mimetype": "text/x-python",
   "name": "python",
   "nbconvert_exporter": "python",
   "pygments_lexer": "ipython3",
   "version": "3.9.7"
  },
  "orig_nbformat": 4
 },
 "nbformat": 4,
 "nbformat_minor": 2
}
